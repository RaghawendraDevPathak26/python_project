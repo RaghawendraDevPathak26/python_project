{
 "cells": [
  {
   "cell_type": "code",
   "execution_count": 1,
   "metadata": {},
   "outputs": [],
   "source": [
    "import pandas as pd\n",
    "class check:\n",
    "    def main():\n",
    "        a=\"test\"\n",
    "        print(a)\n",
    "class b(check):\n",
    "    \n"
   ]
  },
  {
   "cell_type": "code",
   "execution_count": 9,
   "metadata": {},
   "outputs": [
    {
     "name": "stdout",
     "output_type": "stream",
     "text": [
      "       name roll\n",
      "0    bhindi    1\n",
      "1    Raghav    2\n",
      "2     gobhi    3\n",
      "3       alu    4\n",
      "4  Shrestha    5\n"
     ]
    }
   ],
   "source": [
    "import pandas as pd\n",
    "import numpy as np\n",
    "class test():\n",
    "    def main():\n",
    "        abc={            \n",
    "            \"name\":[\"bhindi\",\"Raghav\",\"gobhi\",\"alu\",\"Shrestha\"],\n",
    "            \"roll\":[\"1\",\"2\",\"3\",\"4\",\"5\"]\n",
    "        }\n",
    "        xyz=pd.DataFrame(abc)\n",
    "        print(xyz)\n",
    "test.main()\n",
    "\n"
   ]
  },
  {
   "cell_type": "code",
   "execution_count": 4,
   "metadata": {},
   "outputs": [
    {
     "ename": "IndexError",
     "evalue": "list assignment index out of range",
     "output_type": "error",
     "traceback": [
      "\u001b[1;31m---------------------------------------------------------------------------\u001b[0m",
      "\u001b[1;31mIndexError\u001b[0m                                Traceback (most recent call last)",
      "Cell \u001b[1;32mIn[4], line 14\u001b[0m\n\u001b[0;32m     12\u001b[0m         xyz\u001b[39m=\u001b[39mpd\u001b[39m.\u001b[39mDataFrame(abc)\n\u001b[0;32m     13\u001b[0m         \u001b[39mprint\u001b[39m(xyz)\n\u001b[1;32m---> 14\u001b[0m test\u001b[39m.\u001b[39;49mmain()\n",
      "Cell \u001b[1;32mIn[4], line 10\u001b[0m, in \u001b[0;36mtest.main\u001b[1;34m()\u001b[0m\n\u001b[0;32m      5\u001b[0m abc\u001b[39m=\u001b[39m{            \n\u001b[0;32m      6\u001b[0m     \u001b[39m\"\u001b[39m\u001b[39mname\u001b[39m\u001b[39m\"\u001b[39m:[],\n\u001b[0;32m      7\u001b[0m     \u001b[39m\"\u001b[39m\u001b[39mroll\u001b[39m\u001b[39m\"\u001b[39m:[]\n\u001b[0;32m      8\u001b[0m }\n\u001b[0;32m      9\u001b[0m \u001b[39mfor\u001b[39;00m i \u001b[39min\u001b[39;00m \u001b[39mrange\u001b[39m (\u001b[39m0\u001b[39m,\u001b[39m5\u001b[39m):\n\u001b[1;32m---> 10\u001b[0m     abc[\u001b[39m\"\u001b[39;49m\u001b[39mname\u001b[39;49m\u001b[39m\"\u001b[39;49m][i]\u001b[39m=\u001b[39m\u001b[39minput\u001b[39m(\u001b[39m\"\u001b[39m\u001b[39menter the name\u001b[39m\u001b[39m\"\u001b[39m)\n\u001b[0;32m     11\u001b[0m     abc[\u001b[39m\"\u001b[39m\u001b[39mroll\u001b[39m\u001b[39m\"\u001b[39m][i]\u001b[39m=\u001b[39m\u001b[39minput\u001b[39m(\u001b[39m\"\u001b[39m\u001b[39menter roll no.\u001b[39m\u001b[39m\"\u001b[39m)\n\u001b[0;32m     12\u001b[0m xyz\u001b[39m=\u001b[39mpd\u001b[39m.\u001b[39mDataFrame(abc)\n",
      "\u001b[1;31mIndexError\u001b[0m: list assignment index out of range"
     ]
    }
   ],
   "source": [
    "import pandas as pd\n",
    "import numpy as np\n",
    "class test():\n",
    "    def main():\n",
    "        abc={            \n",
    "            \"name\":[],\n",
    "            \"roll\":[]\n",
    "        }\n",
    "        for i in range (0,5):\n",
    "            abc[\"name\"][i]=input(\"enter the name\")\n",
    "            abc[\"roll\"][i]=input(\"enter roll no.\")\n",
    "        xyz=pd.DataFrame(abc)\n",
    "        print(xyz)\n",
    "test.main()"
   ]
  }
 ],
 "metadata": {
  "kernelspec": {
   "display_name": "Python 3",
   "language": "python",
   "name": "python3"
  },
  "language_info": {
   "codemirror_mode": {
    "name": "ipython",
    "version": 3
   },
   "file_extension": ".py",
   "mimetype": "text/x-python",
   "name": "python",
   "nbconvert_exporter": "python",
   "pygments_lexer": "ipython3",
   "version": "3.11.4"
  },
  "orig_nbformat": 4
 },
 "nbformat": 4,
 "nbformat_minor": 2
}
