# def odd_even():
#     a=int(input("Enter the lower limit"))
#     b=int(input("Enter the upper limit"))
#     c=[]
#     d=[]
#     for i in range(a,b+1):
#          if i%2==0:
#             c.append(i)
#          else:
#              d.append(i) 
#     print("even no. are",c)
#     print("odd no. are",d)
 
# def array1():
#     a=[]
#     n=int(input("enter the no. of element"))
#     for i in range(0,n):
#         y=int(input("enter the element"))
#         a.append(y)
#     print(a)
