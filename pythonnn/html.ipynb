{
 "cells": [
  {
   "cell_type": "code",
   "execution_count": 12,
   "metadata": {},
   "outputs": [],
   "source": [
    "\n",
    "f=open(\"indx.html\",\"w\")\n",
    "html_template=\"\"\"\n",
    "    <!DOCTYPE html>\n",
    "    <html lang=\"en\">\n",
    "    <head>\n",
    "    <meta charset=\"UTF-8\">\n",
    "    <meta name=\"viewport\" content=\"width=device-width, initial-scale=1.0\">\n",
    "    <title>name</title>\n",
    "    </head>\n",
    "    <style>\n",
    "    h1{\n",
    "        font-size: 20px;\n",
    "        text-align: left;\n",
    "    }\n",
    "    </style>\n",
    "    <body style=\"background-color: antiquewhite;\">\n",
    "    <h1>Raghawendra Dev Pathak</h1>\n",
    "    </body>\n",
    "    </html>\n",
    "    \"\"\"\n",
    "f.write(html_template)\n",
    "f.close()"
   ]
  }
 ],
 "metadata": {
  "kernelspec": {
   "display_name": "Python 3",
   "language": "python",
   "name": "python3"
  },
  "language_info": {
   "codemirror_mode": {
    "name": "ipython",
    "version": 3
   },
   "file_extension": ".py",
   "mimetype": "text/x-python",
   "name": "python",
   "nbconvert_exporter": "python",
   "pygments_lexer": "ipython3",
   "version": "3.11.4"
  },
  "orig_nbformat": 4
 },
 "nbformat": 4,
 "nbformat_minor": 2
}
